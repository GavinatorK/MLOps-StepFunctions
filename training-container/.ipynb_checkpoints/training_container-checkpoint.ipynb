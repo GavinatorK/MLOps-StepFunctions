{
 "cells": [
  {
   "cell_type": "markdown",
   "id": "a81872cf-a122-4406-99d6-cd34bfa6a1f5",
   "metadata": {},
   "source": [
    "## Build the Training container for fastai \n",
    "\n",
    "In this notebook, we will build the inference container that can be used for both Batch Transform and End point"
   ]
  },
  {
   "cell_type": "code",
   "execution_count": null,
   "id": "0f845c76-2f8f-415e-96f3-41ee8487ca32",
   "metadata": {},
   "outputs": [],
   "source": [
    "#change permission on executable files \n",
    "!chmod +x code/*"
   ]
  },
  {
   "cell_type": "markdown",
   "id": "8df176b2-8452-43ba-8e55-061fdbf72f0d",
   "metadata": {},
   "source": [
    "Build the container locally"
   ]
  },
  {
   "cell_type": "code",
   "execution_count": null,
   "id": "1fc5bd71-0f2b-4a01-a388-fd64970daac2",
   "metadata": {
    "tags": []
   },
   "outputs": [],
   "source": [
    "!docker build -t fastai ."
   ]
  },
  {
   "cell_type": "code",
   "execution_count": null,
   "id": "5dd4c5f3-16ee-4c30-b187-52de9be598ed",
   "metadata": {
    "tags": []
   },
   "outputs": [],
   "source": [
    "!docker images"
   ]
  },
  {
   "cell_type": "markdown",
   "id": "8c1d5b81-85c7-409c-929b-5058d406cc55",
   "metadata": {},
   "source": [
    "Authenticate to ECR using boto3 and set names for tags and ecr repository"
   ]
  },
  {
   "cell_type": "code",
   "execution_count": 3,
   "id": "5e0ecad1-8c98-4127-9032-113d23e186e8",
   "metadata": {},
   "outputs": [],
   "source": [
    "import boto3\n",
    "import sagemaker\n",
    "ecr_namespace = \"sagemaker-training-containers/\"\n",
    "prefix = \"script-mode-container-fastai\"\n",
    "role = sagemaker.get_execution_role()\n",
    "ecr_repository_name = ecr_namespace + prefix\n",
    "account_id = role.split(\":\")[4]\n",
    "region = boto3.Session().region_name\n",
    "tag_name=account_id+'.dkr.ecr.'+region+'.amazonaws.com/'+ecr_repository_name+':latest'"
   ]
  },
  {
   "cell_type": "markdown",
   "id": "40452244-c04d-4d61-a740-33a1c4806c2c",
   "metadata": {},
   "source": [
    "tag with ecr repository"
   ]
  },
  {
   "cell_type": "code",
   "execution_count": null,
   "id": "72a34724-73e7-478e-a56c-b039267d2a02",
   "metadata": {},
   "outputs": [],
   "source": [
    "!docker tag fastai $tag_name"
   ]
  },
  {
   "cell_type": "markdown",
   "id": "b758f7f2-3837-48e8-ab8f-efd32c1dec7e",
   "metadata": {},
   "source": [
    "Create a ECR repo, if it already exists, you will get an error and you can ignore it "
   ]
  },
  {
   "cell_type": "markdown",
   "id": "199c2941-44a9-41e2-a0a7-9ce369af57b6",
   "metadata": {},
   "source": [
    "Authenticate into ECR "
   ]
  },
  {
   "cell_type": "code",
   "execution_count": null,
   "id": "d7f56e7d-c43b-43bf-a3cf-c58faffe58b5",
   "metadata": {},
   "outputs": [],
   "source": [
    "!$(aws ecr get-login --no-include-email)"
   ]
  },
  {
   "cell_type": "code",
   "execution_count": null,
   "id": "794f375c-e4ed-4cdb-876b-7e783cfb9dff",
   "metadata": {
    "tags": []
   },
   "outputs": [],
   "source": [
    "!aws ecr create-repository --repository-name $ecr_repository_name"
   ]
  },
  {
   "cell_type": "markdown",
   "id": "3e8f86e8-8663-4b76-b5c7-23cb06ebbe92",
   "metadata": {},
   "source": [
    "Push the local image to ECR"
   ]
  },
  {
   "cell_type": "code",
   "execution_count": null,
   "id": "a607935e-84a0-443a-b948-e6fef8d96001",
   "metadata": {
    "tags": []
   },
   "outputs": [],
   "source": [
    "!docker push $tag_name"
   ]
  },
  {
   "cell_type": "code",
   "execution_count": null,
   "id": "caa82c38-0a08-4149-962c-ff439fc736b2",
   "metadata": {},
   "outputs": [],
   "source": [
    "tag_name"
   ]
  }
 ],
 "metadata": {
  "kernelspec": {
   "display_name": "conda_python3",
   "language": "python",
   "name": "conda_python3"
  },
  "language_info": {
   "codemirror_mode": {
    "name": "ipython",
    "version": 3
   },
   "file_extension": ".py",
   "mimetype": "text/x-python",
   "name": "python",
   "nbconvert_exporter": "python",
   "pygments_lexer": "ipython3",
   "version": "3.8.12"
  }
 },
 "nbformat": 4,
 "nbformat_minor": 5
}
